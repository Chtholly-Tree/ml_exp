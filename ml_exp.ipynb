{
 "cells": [
  {
   "cell_type": "code",
   "execution_count": 1,
   "metadata": {},
   "outputs": [],
   "source": [
    "import os\n",
    "import warnings\n",
    "warnings.filterwarnings('ignore')\n",
    "\n",
    "from pathlib import Path\n",
    "import numpy as np\n",
    "import pandas as pd\n",
    "import matplotlib.pyplot as plt\n",
    "import seaborn as sns"
   ]
  },
  {
   "cell_type": "markdown",
   "metadata": {},
   "source": [
    "# 数据准备"
   ]
  },
  {
   "cell_type": "code",
   "execution_count": 2,
   "metadata": {},
   "outputs": [
    {
     "name": "stdout",
     "output_type": "stream",
     "text": [
      "<class 'pandas.core.frame.DataFrame'>\n",
      "RangeIndex: 9999 entries, 0 to 9998\n",
      "Data columns (total 18 columns):\n",
      " #   Column               Non-Null Count  Dtype \n",
      "---  ------               --------------  ----- \n",
      " 0   job_id               9999 non-null   object\n",
      " 1   title                9999 non-null   object\n",
      " 2   location             9801 non-null   object\n",
      " 3   department           3611 non-null   object\n",
      " 4   salary_range         1606 non-null   object\n",
      " 5   company_profile      8114 non-null   object\n",
      " 6   description          9999 non-null   object\n",
      " 7   requirements         8433 non-null   object\n",
      " 8   benefits             5915 non-null   object\n",
      " 9   telecommuting        9999 non-null   int64 \n",
      " 10  has_company_logo     9999 non-null   int64 \n",
      " 11  has_questions        9999 non-null   int64 \n",
      " 12  employment_type      8007 non-null   object\n",
      " 13  required_experience  6039 non-null   object\n",
      " 14  required_education   5451 non-null   object\n",
      " 15  industry             7218 non-null   object\n",
      " 16  function             6345 non-null   object\n",
      " 17  fraudulent           9999 non-null   int64 \n",
      "dtypes: int64(4), object(14)\n",
      "memory usage: 1.4+ MB\n"
     ]
    }
   ],
   "source": [
    "dataset_dir = 'data'\n",
    "\n",
    "train_data = pd.read_csv(Path(dataset_dir).joinpath('fake_job_postings_train.csv'))\n",
    "test_data = pd.read_csv(Path(dataset_dir).joinpath('fake_job_postings_test.csv'))\n",
    "\n",
    "columns = [col for col in train_data.columns]\n",
    "train_data.info()"
   ]
  },
  {
   "cell_type": "code",
   "execution_count": null,
   "metadata": {},
   "outputs": [
    {
     "data": {
      "text/html": [
       "<div>\n",
       "<style scoped>\n",
       "    .dataframe tbody tr th:only-of-type {\n",
       "        vertical-align: middle;\n",
       "    }\n",
       "\n",
       "    .dataframe tbody tr th {\n",
       "        vertical-align: top;\n",
       "    }\n",
       "\n",
       "    .dataframe thead th {\n",
       "        text-align: right;\n",
       "    }\n",
       "</style>\n",
       "<table border=\"1\" class=\"dataframe\">\n",
       "  <thead>\n",
       "    <tr style=\"text-align: right;\">\n",
       "      <th></th>\n",
       "      <th>job_id</th>\n",
       "      <th>title</th>\n",
       "      <th>location</th>\n",
       "      <th>department</th>\n",
       "      <th>salary_range</th>\n",
       "      <th>company_profile</th>\n",
       "      <th>description</th>\n",
       "      <th>requirements</th>\n",
       "      <th>benefits</th>\n",
       "      <th>telecommuting</th>\n",
       "      <th>has_company_logo</th>\n",
       "      <th>has_questions</th>\n",
       "      <th>employment_type</th>\n",
       "      <th>required_experience</th>\n",
       "      <th>required_education</th>\n",
       "      <th>industry</th>\n",
       "      <th>function</th>\n",
       "      <th>fraudulent</th>\n",
       "    </tr>\n",
       "  </thead>\n",
       "  <tbody>\n",
       "    <tr>\n",
       "      <th>0</th>\n",
       "      <td>00100eff19844c0190df4c5e11f4c066</td>\n",
       "      <td>Office Manager / HR</td>\n",
       "      <td>GB, LND,</td>\n",
       "      <td>NaN</td>\n",
       "      <td>NaN</td>\n",
       "      <td>NaN</td>\n",
       "      <td>Based in the heart of the City, this exception...</td>\n",
       "      <td>You will have previous experience in running a...</td>\n",
       "      <td>Excellent Salaries Company Benefit PackagesInt...</td>\n",
       "      <td>0</td>\n",
       "      <td>1</td>\n",
       "      <td>0</td>\n",
       "      <td>Full-time</td>\n",
       "      <td>NaN</td>\n",
       "      <td>Bachelor's Degree</td>\n",
       "      <td>Retail</td>\n",
       "      <td>NaN</td>\n",
       "      <td>0</td>\n",
       "    </tr>\n",
       "    <tr>\n",
       "      <th>1</th>\n",
       "      <td>0012cf527c5740999d1c6545dce5cd95</td>\n",
       "      <td>Director of Account Management</td>\n",
       "      <td>US, CA, San Francisco</td>\n",
       "      <td>NaN</td>\n",
       "      <td>NaN</td>\n",
       "      <td>NaN</td>\n",
       "      <td>The Director of Account Management brings stro...</td>\n",
       "      <td>8+ years experience in an account management a...</td>\n",
       "      <td>NaN</td>\n",
       "      <td>0</td>\n",
       "      <td>0</td>\n",
       "      <td>1</td>\n",
       "      <td>NaN</td>\n",
       "      <td>NaN</td>\n",
       "      <td>NaN</td>\n",
       "      <td>NaN</td>\n",
       "      <td>NaN</td>\n",
       "      <td>0</td>\n",
       "    </tr>\n",
       "    <tr>\n",
       "      <th>2</th>\n",
       "      <td>0013e2bf9f6548c5b214853f9134b005</td>\n",
       "      <td>Brand Manager [Contract position]</td>\n",
       "      <td>US, , Boise</td>\n",
       "      <td>Account team</td>\n",
       "      <td>NaN</td>\n",
       "      <td>Since 1978Our goal has been to create engaging...</td>\n",
       "      <td>Drake Cooper Brand Managers help clients grow ...</td>\n",
       "      <td>Education:  BS/BA degree in advertising / mar...</td>\n",
       "      <td>ABOUT DRAKE COOPERWe are a Northwest U.S. adve...</td>\n",
       "      <td>0</td>\n",
       "      <td>1</td>\n",
       "      <td>0</td>\n",
       "      <td>Contract</td>\n",
       "      <td>Associate</td>\n",
       "      <td>Bachelor's Degree</td>\n",
       "      <td>Marketing and Advertising</td>\n",
       "      <td>Advertising</td>\n",
       "      <td>0</td>\n",
       "    </tr>\n",
       "    <tr>\n",
       "      <th>3</th>\n",
       "      <td>001493eaf7684ba693d9c1294e12787b</td>\n",
       "      <td>Web Developer</td>\n",
       "      <td>GR, ,</td>\n",
       "      <td>NaN</td>\n",
       "      <td>NaN</td>\n",
       "      <td>We are a technology focused company with an es...</td>\n",
       "      <td>This position is for a talented PHP/MYSQL/JQue...</td>\n",
       "      <td>Solid object-oriented design, programming, and...</td>\n",
       "      <td>NaN</td>\n",
       "      <td>0</td>\n",
       "      <td>1</td>\n",
       "      <td>0</td>\n",
       "      <td>Full-time</td>\n",
       "      <td>Mid-Senior level</td>\n",
       "      <td>NaN</td>\n",
       "      <td>E-Learning</td>\n",
       "      <td>NaN</td>\n",
       "      <td>0</td>\n",
       "    </tr>\n",
       "    <tr>\n",
       "      <th>4</th>\n",
       "      <td>0014e3ba40af422981a8d30e96a34cb1</td>\n",
       "      <td>Performance Improvement Director</td>\n",
       "      <td>US, ,</td>\n",
       "      <td>NaN</td>\n",
       "      <td>NaN</td>\n",
       "      <td>NaN</td>\n",
       "      <td>Oversees implementation and operation of Perfo...</td>\n",
       "      <td>Quality-oriented consulting company with a foc...</td>\n",
       "      <td>Full-time position.Quality benefits package of...</td>\n",
       "      <td>0</td>\n",
       "      <td>0</td>\n",
       "      <td>0</td>\n",
       "      <td>Full-time</td>\n",
       "      <td>Director</td>\n",
       "      <td>Bachelor's Degree</td>\n",
       "      <td>Hospital &amp; Health Care</td>\n",
       "      <td>Health Care Provider</td>\n",
       "      <td>0</td>\n",
       "    </tr>\n",
       "  </tbody>\n",
       "</table>\n",
       "</div>"
      ],
      "text/plain": [
       "                             job_id                              title  \\\n",
       "0  00100eff19844c0190df4c5e11f4c066              Office Manager / HR     \n",
       "1  0012cf527c5740999d1c6545dce5cd95     Director of Account Management   \n",
       "2  0013e2bf9f6548c5b214853f9134b005  Brand Manager [Contract position]   \n",
       "3  001493eaf7684ba693d9c1294e12787b                      Web Developer   \n",
       "4  0014e3ba40af422981a8d30e96a34cb1   Performance Improvement Director   \n",
       "\n",
       "                location    department salary_range  \\\n",
       "0              GB, LND,            NaN          NaN   \n",
       "1  US, CA, San Francisco           NaN          NaN   \n",
       "2            US, , Boise  Account team          NaN   \n",
       "3                 GR, ,            NaN          NaN   \n",
       "4                 US, ,            NaN          NaN   \n",
       "\n",
       "                                     company_profile  \\\n",
       "0                                                NaN   \n",
       "1                                                NaN   \n",
       "2  Since 1978Our goal has been to create engaging...   \n",
       "3  We are a technology focused company with an es...   \n",
       "4                                                NaN   \n",
       "\n",
       "                                         description  \\\n",
       "0  Based in the heart of the City, this exception...   \n",
       "1  The Director of Account Management brings stro...   \n",
       "2  Drake Cooper Brand Managers help clients grow ...   \n",
       "3  This position is for a talented PHP/MYSQL/JQue...   \n",
       "4  Oversees implementation and operation of Perfo...   \n",
       "\n",
       "                                        requirements  \\\n",
       "0  You will have previous experience in running a...   \n",
       "1  8+ years experience in an account management a...   \n",
       "2   Education:  BS/BA degree in advertising / mar...   \n",
       "3  Solid object-oriented design, programming, and...   \n",
       "4  Quality-oriented consulting company with a foc...   \n",
       "\n",
       "                                            benefits  telecommuting  \\\n",
       "0  Excellent Salaries Company Benefit PackagesInt...              0   \n",
       "1                                                NaN              0   \n",
       "2  ABOUT DRAKE COOPERWe are a Northwest U.S. adve...              0   \n",
       "3                                                NaN              0   \n",
       "4  Full-time position.Quality benefits package of...              0   \n",
       "\n",
       "   has_company_logo  has_questions employment_type required_experience  \\\n",
       "0                 1              0       Full-time                 NaN   \n",
       "1                 0              1             NaN                 NaN   \n",
       "2                 1              0        Contract           Associate   \n",
       "3                 1              0       Full-time    Mid-Senior level   \n",
       "4                 0              0       Full-time            Director   \n",
       "\n",
       "  required_education                   industry              function  \\\n",
       "0  Bachelor's Degree                     Retail                   NaN   \n",
       "1                NaN                        NaN                   NaN   \n",
       "2  Bachelor's Degree  Marketing and Advertising           Advertising   \n",
       "3                NaN                 E-Learning                   NaN   \n",
       "4  Bachelor's Degree     Hospital & Health Care  Health Care Provider   \n",
       "\n",
       "   fraudulent  \n",
       "0           0  \n",
       "1           0  \n",
       "2           0  \n",
       "3           0  \n",
       "4           0  "
      ]
     },
     "execution_count": 3,
     "metadata": {},
     "output_type": "execute_result"
    }
   ],
   "source": [
    "train_data.head()"
   ]
  },
  {
   "cell_type": "markdown",
   "metadata": {},
   "source": [
    "# 处理缺失数据"
   ]
  },
  {
   "cell_type": "code",
   "execution_count": 4,
   "metadata": {},
   "outputs": [
    {
     "name": "stdout",
     "output_type": "stream",
     "text": [
      "job_id                    0\n",
      "title                     0\n",
      "location                198\n",
      "department             6388\n",
      "salary_range           8393\n",
      "company_profile        1885\n",
      "description               0\n",
      "requirements           1566\n",
      "benefits               4084\n",
      "telecommuting             0\n",
      "has_company_logo          0\n",
      "has_questions             0\n",
      "employment_type        1992\n",
      "required_experience    3960\n",
      "required_education     4548\n",
      "industry               2781\n",
      "function               3654\n",
      "fraudulent                0\n",
      "dtype: int64\n"
     ]
    }
   ],
   "source": [
    "print(train_data.isnull().sum())"
   ]
  },
  {
   "cell_type": "code",
   "execution_count": 5,
   "metadata": {},
   "outputs": [
    {
     "data": {
      "image/png": "[encoded data removed]",
      "text/plain": [
       "<Figure size 1000x600 with 1 Axes>"
      ]
     },
     "metadata": {},
     "output_type": "display_data"
    }
   ],
   "source": [
    "missing_percent = (train_data.isnull().sum() / len(train_data)) * 100\n",
    "missing_percent = missing_percent[missing_percent > 0].sort_values(ascending=False)\n",
    "\n",
    "plt.figure(figsize=(10, 6))\n",
    "missing_percent.plot(kind='bar', color='skyblue')\n",
    "plt.title('Missing Data Percentage')\n",
    "plt.xlabel('Features')\n",
    "plt.ylabel('Percentage')\n",
    "plt.show()"
   ]
  },
  {
   "cell_type": "code",
   "execution_count": null,
   "metadata": {},
   "outputs": [
    {
     "data": {
      "text/html": [
       "<div>\n",
       "<style scoped>\n",
       "    .dataframe tbody tr th:only-of-type {\n",
       "        vertical-align: middle;\n",
       "    }\n",
       "\n",
       "    .dataframe tbody tr th {\n",
       "        vertical-align: top;\n",
       "    }\n",
       "\n",
       "    .dataframe thead th {\n",
       "        text-align: right;\n",
       "    }\n",
       "</style>\n",
       "<table border=\"1\" class=\"dataframe\">\n",
       "  <thead>\n",
       "    <tr style=\"text-align: right;\">\n",
       "      <th></th>\n",
       "      <th>job_id</th>\n",
       "      <th>title</th>\n",
       "      <th>location</th>\n",
       "      <th>department</th>\n",
       "      <th>salary_range</th>\n",
       "      <th>company_profile</th>\n",
       "      <th>description</th>\n",
       "      <th>requirements</th>\n",
       "      <th>benefits</th>\n",
       "      <th>telecommuting</th>\n",
       "      <th>has_company_logo</th>\n",
       "      <th>has_questions</th>\n",
       "      <th>employment_type</th>\n",
       "      <th>required_experience</th>\n",
       "      <th>required_education</th>\n",
       "      <th>industry</th>\n",
       "      <th>function</th>\n",
       "      <th>fraudulent</th>\n",
       "    </tr>\n",
       "  </thead>\n",
       "  <tbody>\n",
       "    <tr>\n",
       "      <th>0</th>\n",
       "      <td>00100eff19844c0190df4c5e11f4c066</td>\n",
       "      <td>Office Manager / HR</td>\n",
       "      <td>GB, LND,</td>\n",
       "      <td>Unknown</td>\n",
       "      <td>Unknown</td>\n",
       "      <td>Missing</td>\n",
       "      <td>Based in the heart of the City, this exception...</td>\n",
       "      <td>You will have previous experience in running a...</td>\n",
       "      <td>Excellent Salaries Company Benefit PackagesInt...</td>\n",
       "      <td>0</td>\n",
       "      <td>1</td>\n",
       "      <td>0</td>\n",
       "      <td>Full-time</td>\n",
       "      <td>Unknown</td>\n",
       "      <td>Bachelor's Degree</td>\n",
       "      <td>Retail</td>\n",
       "      <td>Unknown</td>\n",
       "      <td>0</td>\n",
       "    </tr>\n",
       "    <tr>\n",
       "      <th>1</th>\n",
       "      <td>0012cf527c5740999d1c6545dce5cd95</td>\n",
       "      <td>Director of Account Management</td>\n",
       "      <td>US, CA, San Francisco</td>\n",
       "      <td>Unknown</td>\n",
       "      <td>Unknown</td>\n",
       "      <td>Missing</td>\n",
       "      <td>The Director of Account Management brings stro...</td>\n",
       "      <td>8+ years experience in an account management a...</td>\n",
       "      <td>Missing</td>\n",
       "      <td>0</td>\n",
       "      <td>0</td>\n",
       "      <td>1</td>\n",
       "      <td>Unknown</td>\n",
       "      <td>Unknown</td>\n",
       "      <td>Unknown</td>\n",
       "      <td>Unknown</td>\n",
       "      <td>Unknown</td>\n",
       "      <td>0</td>\n",
       "    </tr>\n",
       "    <tr>\n",
       "      <th>2</th>\n",
       "      <td>0013e2bf9f6548c5b214853f9134b005</td>\n",
       "      <td>Brand Manager [Contract position]</td>\n",
       "      <td>US, , Boise</td>\n",
       "      <td>Account team</td>\n",
       "      <td>Unknown</td>\n",
       "      <td>Since 1978Our goal has been to create engaging...</td>\n",
       "      <td>Drake Cooper Brand Managers help clients grow ...</td>\n",
       "      <td>Education:  BS/BA degree in advertising / mar...</td>\n",
       "      <td>ABOUT DRAKE COOPERWe are a Northwest U.S. adve...</td>\n",
       "      <td>0</td>\n",
       "      <td>1</td>\n",
       "      <td>0</td>\n",
       "      <td>Contract</td>\n",
       "      <td>Associate</td>\n",
       "      <td>Bachelor's Degree</td>\n",
       "      <td>Marketing and Advertising</td>\n",
       "      <td>Advertising</td>\n",
       "      <td>0</td>\n",
       "    </tr>\n",
       "    <tr>\n",
       "      <th>3</th>\n",
       "      <td>001493eaf7684ba693d9c1294e12787b</td>\n",
       "      <td>Web Developer</td>\n",
       "      <td>GR, ,</td>\n",
       "      <td>Unknown</td>\n",
       "      <td>Unknown</td>\n",
       "      <td>We are a technology focused company with an es...</td>\n",
       "      <td>This position is for a talented PHP/MYSQL/JQue...</td>\n",
       "      <td>Solid object-oriented design, programming, and...</td>\n",
       "      <td>Missing</td>\n",
       "      <td>0</td>\n",
       "      <td>1</td>\n",
       "      <td>0</td>\n",
       "      <td>Full-time</td>\n",
       "      <td>Mid-Senior level</td>\n",
       "      <td>Unknown</td>\n",
       "      <td>E-Learning</td>\n",
       "      <td>Unknown</td>\n",
       "      <td>0</td>\n",
       "    </tr>\n",
       "    <tr>\n",
       "      <th>4</th>\n",
       "      <td>0014e3ba40af422981a8d30e96a34cb1</td>\n",
       "      <td>Performance Improvement Director</td>\n",
       "      <td>US, ,</td>\n",
       "      <td>Unknown</td>\n",
       "      <td>Unknown</td>\n",
       "      <td>Missing</td>\n",
       "      <td>Oversees implementation and operation of Perfo...</td>\n",
       "      <td>Quality-oriented consulting company with a foc...</td>\n",
       "      <td>Full-time position.Quality benefits package of...</td>\n",
       "      <td>0</td>\n",
       "      <td>0</td>\n",
       "      <td>0</td>\n",
       "      <td>Full-time</td>\n",
       "      <td>Director</td>\n",
       "      <td>Bachelor's Degree</td>\n",
       "      <td>Hospital &amp; Health Care</td>\n",
       "      <td>Health Care Provider</td>\n",
       "      <td>0</td>\n",
       "    </tr>\n",
       "  </tbody>\n",
       "</table>\n",
       "</div>"
      ],
      "text/plain": [
       "                             job_id                              title  \\\n",
       "0  00100eff19844c0190df4c5e11f4c066              Office Manager / HR     \n",
       "1  0012cf527c5740999d1c6545dce5cd95     Director of Account Management   \n",
       "2  0013e2bf9f6548c5b214853f9134b005  Brand Manager [Contract position]   \n",
       "3  001493eaf7684ba693d9c1294e12787b                      Web Developer   \n",
       "4  0014e3ba40af422981a8d30e96a34cb1   Performance Improvement Director   \n",
       "\n",
       "                location    department salary_range  \\\n",
       "0              GB, LND,        Unknown      Unknown   \n",
       "1  US, CA, San Francisco       Unknown      Unknown   \n",
       "2            US, , Boise  Account team      Unknown   \n",
       "3                 GR, ,        Unknown      Unknown   \n",
       "4                 US, ,        Unknown      Unknown   \n",
       "\n",
       "                                     company_profile  \\\n",
       "0                                            Missing   \n",
       "1                                            Missing   \n",
       "2  Since 1978Our goal has been to create engaging...   \n",
       "3  We are a technology focused company with an es...   \n",
       "4                                            Missing   \n",
       "\n",
       "                                         description  \\\n",
       "0  Based in the heart of the City, this exception...   \n",
       "1  The Director of Account Management brings stro...   \n",
       "2  Drake Cooper Brand Managers help clients grow ...   \n",
       "3  This position is for a talented PHP/MYSQL/JQue...   \n",
       "4  Oversees implementation and operation of Perfo...   \n",
       "\n",
       "                                        requirements  \\\n",
       "0  You will have previous experience in running a...   \n",
       "1  8+ years experience in an account management a...   \n",
       "2   Education:  BS/BA degree in advertising / mar...   \n",
       "3  Solid object-oriented design, programming, and...   \n",
       "4  Quality-oriented consulting company with a foc...   \n",
       "\n",
       "                                            benefits  telecommuting  \\\n",
       "0  Excellent Salaries Company Benefit PackagesInt...              0   \n",
       "1                                            Missing              0   \n",
       "2  ABOUT DRAKE COOPERWe are a Northwest U.S. adve...              0   \n",
       "3                                            Missing              0   \n",
       "4  Full-time position.Quality benefits package of...              0   \n",
       "\n",
       "   has_company_logo  has_questions employment_type required_experience  \\\n",
       "0                 1              0       Full-time             Unknown   \n",
       "1                 0              1         Unknown             Unknown   \n",
       "2                 1              0        Contract           Associate   \n",
       "3                 1              0       Full-time    Mid-Senior level   \n",
       "4                 0              0       Full-time            Director   \n",
       "\n",
       "  required_education                   industry              function  \\\n",
       "0  Bachelor's Degree                     Retail               Unknown   \n",
       "1            Unknown                    Unknown               Unknown   \n",
       "2  Bachelor's Degree  Marketing and Advertising           Advertising   \n",
       "3            Unknown                 E-Learning               Unknown   \n",
       "4  Bachelor's Degree     Hospital & Health Care  Health Care Provider   \n",
       "\n",
       "   fraudulent  \n",
       "0           0  \n",
       "1           0  \n",
       "2           0  \n",
       "3           0  \n",
       "4           0  "
      ]
     },
     "execution_count": 6,
     "metadata": {},
     "output_type": "execute_result"
    }
   ],
   "source": [
    "text_columns = ['title', 'company_profile', 'description', 'requirements', 'benefits']\n",
    "train_data[text_columns] = train_data[text_columns].fillna('Missing')\n",
    "info_columns = ['location', 'salary_range', 'department', 'required_education', 'required_experience', 'employment_type', 'industry', 'function']\n",
    "train_data[info_columns] = train_data[info_columns].fillna('Unknown')\n",
    "\n",
    "train_data.head()"
   ]
  },
  {
   "cell_type": "markdown",
   "metadata": {},
   "source": [
    "# 特征选择"
   ]
  },
  {
   "cell_type": "code",
   "execution_count": 7,
   "metadata": {},
   "outputs": [
    {
     "data": {
      "text/html": [
       "<div>\n",
       "<style scoped>\n",
       "    .dataframe tbody tr th:only-of-type {\n",
       "        vertical-align: middle;\n",
       "    }\n",
       "\n",
       "    .dataframe tbody tr th {\n",
       "        vertical-align: top;\n",
       "    }\n",
       "\n",
       "    .dataframe thead th {\n",
       "        text-align: right;\n",
       "    }\n",
       "</style>\n",
       "<table border=\"1\" class=\"dataframe\">\n",
       "  <thead>\n",
       "    <tr style=\"text-align: right;\">\n",
       "      <th></th>\n",
       "      <th>job_id</th>\n",
       "      <th>title</th>\n",
       "      <th>location</th>\n",
       "      <th>department</th>\n",
       "      <th>salary_range</th>\n",
       "      <th>company_profile</th>\n",
       "      <th>description</th>\n",
       "      <th>requirements</th>\n",
       "      <th>benefits</th>\n",
       "      <th>telecommuting</th>\n",
       "      <th>has_company_logo</th>\n",
       "      <th>has_questions</th>\n",
       "      <th>employment_type</th>\n",
       "      <th>required_experience</th>\n",
       "      <th>required_education</th>\n",
       "      <th>industry</th>\n",
       "      <th>function</th>\n",
       "      <th>fraudulent</th>\n",
       "      <th>text</th>\n",
       "    </tr>\n",
       "  </thead>\n",
       "  <tbody>\n",
       "    <tr>\n",
       "      <th>0</th>\n",
       "      <td>00100eff19844c0190df4c5e11f4c066</td>\n",
       "      <td>office manager  hr</td>\n",
       "      <td>GB, LND,</td>\n",
       "      <td>Unknown</td>\n",
       "      <td>Unknown</td>\n",
       "      <td>missing</td>\n",
       "      <td>based in the heart of the city this exceptiona...</td>\n",
       "      <td>you will have previous experience in running a...</td>\n",
       "      <td>excellent salaries company benefit packagesint...</td>\n",
       "      <td>0</td>\n",
       "      <td>1</td>\n",
       "      <td>0</td>\n",
       "      <td>Full-time</td>\n",
       "      <td>Unknown</td>\n",
       "      <td>Bachelor's Degree</td>\n",
       "      <td>Retail</td>\n",
       "      <td>Unknown</td>\n",
       "      <td>0</td>\n",
       "      <td>office manager  hr   missing based in the hear...</td>\n",
       "    </tr>\n",
       "    <tr>\n",
       "      <th>1</th>\n",
       "      <td>0012cf527c5740999d1c6545dce5cd95</td>\n",
       "      <td>director of account management</td>\n",
       "      <td>US, CA, San Francisco</td>\n",
       "      <td>Unknown</td>\n",
       "      <td>Unknown</td>\n",
       "      <td>missing</td>\n",
       "      <td>the director of account management brings stro...</td>\n",
       "      <td>years experience in an account management and...</td>\n",
       "      <td>missing</td>\n",
       "      <td>0</td>\n",
       "      <td>0</td>\n",
       "      <td>1</td>\n",
       "      <td>Unknown</td>\n",
       "      <td>Unknown</td>\n",
       "      <td>Unknown</td>\n",
       "      <td>Unknown</td>\n",
       "      <td>Unknown</td>\n",
       "      <td>0</td>\n",
       "      <td>director of account management missing the dir...</td>\n",
       "    </tr>\n",
       "    <tr>\n",
       "      <th>2</th>\n",
       "      <td>0013e2bf9f6548c5b214853f9134b005</td>\n",
       "      <td>brand manager contract position</td>\n",
       "      <td>US, , Boise</td>\n",
       "      <td>Account team</td>\n",
       "      <td>Unknown</td>\n",
       "      <td>since our goal has been to create engaging bra...</td>\n",
       "      <td>drake cooper brand managers help clients grow ...</td>\n",
       "      <td>education  bsba degree in advertising  market...</td>\n",
       "      <td>about drake cooperwe are a northwest us advert...</td>\n",
       "      <td>0</td>\n",
       "      <td>1</td>\n",
       "      <td>0</td>\n",
       "      <td>Contract</td>\n",
       "      <td>Associate</td>\n",
       "      <td>Bachelor's Degree</td>\n",
       "      <td>Marketing and Advertising</td>\n",
       "      <td>Advertising</td>\n",
       "      <td>0</td>\n",
       "      <td>brand manager contract position since our goal...</td>\n",
       "    </tr>\n",
       "    <tr>\n",
       "      <th>3</th>\n",
       "      <td>001493eaf7684ba693d9c1294e12787b</td>\n",
       "      <td>web developer</td>\n",
       "      <td>GR, ,</td>\n",
       "      <td>Unknown</td>\n",
       "      <td>Unknown</td>\n",
       "      <td>we are a technology focused company with an es...</td>\n",
       "      <td>this position is for a talented phpmysqljquery...</td>\n",
       "      <td>solid objectoriented design programming and de...</td>\n",
       "      <td>missing</td>\n",
       "      <td>0</td>\n",
       "      <td>1</td>\n",
       "      <td>0</td>\n",
       "      <td>Full-time</td>\n",
       "      <td>Mid-Senior level</td>\n",
       "      <td>Unknown</td>\n",
       "      <td>E-Learning</td>\n",
       "      <td>Unknown</td>\n",
       "      <td>0</td>\n",
       "      <td>web developer we are a technology focused comp...</td>\n",
       "    </tr>\n",
       "    <tr>\n",
       "      <th>4</th>\n",
       "      <td>0014e3ba40af422981a8d30e96a34cb1</td>\n",
       "      <td>performance improvement director</td>\n",
       "      <td>US, ,</td>\n",
       "      <td>Unknown</td>\n",
       "      <td>Unknown</td>\n",
       "      <td>missing</td>\n",
       "      <td>oversees implementation and operation of perfo...</td>\n",
       "      <td>qualityoriented consulting company with a focu...</td>\n",
       "      <td>fulltime positionquality benefits package offered</td>\n",
       "      <td>0</td>\n",
       "      <td>0</td>\n",
       "      <td>0</td>\n",
       "      <td>Full-time</td>\n",
       "      <td>Director</td>\n",
       "      <td>Bachelor's Degree</td>\n",
       "      <td>Hospital &amp; Health Care</td>\n",
       "      <td>Health Care Provider</td>\n",
       "      <td>0</td>\n",
       "      <td>performance improvement director missing overs...</td>\n",
       "    </tr>\n",
       "  </tbody>\n",
       "</table>\n",
       "</div>"
      ],
      "text/plain": [
       "                             job_id                             title  \\\n",
       "0  00100eff19844c0190df4c5e11f4c066              office manager  hr     \n",
       "1  0012cf527c5740999d1c6545dce5cd95    director of account management   \n",
       "2  0013e2bf9f6548c5b214853f9134b005   brand manager contract position   \n",
       "3  001493eaf7684ba693d9c1294e12787b                     web developer   \n",
       "4  0014e3ba40af422981a8d30e96a34cb1  performance improvement director   \n",
       "\n",
       "                location    department salary_range  \\\n",
       "0              GB, LND,        Unknown      Unknown   \n",
       "1  US, CA, San Francisco       Unknown      Unknown   \n",
       "2            US, , Boise  Account team      Unknown   \n",
       "3                 GR, ,        Unknown      Unknown   \n",
       "4                 US, ,        Unknown      Unknown   \n",
       "\n",
       "                                     company_profile  \\\n",
       "0                                            missing   \n",
       "1                                            missing   \n",
       "2  since our goal has been to create engaging bra...   \n",
       "3  we are a technology focused company with an es...   \n",
       "4                                            missing   \n",
       "\n",
       "                                         description  \\\n",
       "0  based in the heart of the city this exceptiona...   \n",
       "1  the director of account management brings stro...   \n",
       "2  drake cooper brand managers help clients grow ...   \n",
       "3  this position is for a talented phpmysqljquery...   \n",
       "4  oversees implementation and operation of perfo...   \n",
       "\n",
       "                                        requirements  \\\n",
       "0  you will have previous experience in running a...   \n",
       "1   years experience in an account management and...   \n",
       "2   education  bsba degree in advertising  market...   \n",
       "3  solid objectoriented design programming and de...   \n",
       "4  qualityoriented consulting company with a focu...   \n",
       "\n",
       "                                            benefits  telecommuting  \\\n",
       "0  excellent salaries company benefit packagesint...              0   \n",
       "1                                            missing              0   \n",
       "2  about drake cooperwe are a northwest us advert...              0   \n",
       "3                                            missing              0   \n",
       "4  fulltime positionquality benefits package offered              0   \n",
       "\n",
       "   has_company_logo  has_questions employment_type required_experience  \\\n",
       "0                 1              0       Full-time             Unknown   \n",
       "1                 0              1         Unknown             Unknown   \n",
       "2                 1              0        Contract           Associate   \n",
       "3                 1              0       Full-time    Mid-Senior level   \n",
       "4                 0              0       Full-time            Director   \n",
       "\n",
       "  required_education                   industry              function  \\\n",
       "0  Bachelor's Degree                     Retail               Unknown   \n",
       "1            Unknown                    Unknown               Unknown   \n",
       "2  Bachelor's Degree  Marketing and Advertising           Advertising   \n",
       "3            Unknown                 E-Learning               Unknown   \n",
       "4  Bachelor's Degree     Hospital & Health Care  Health Care Provider   \n",
       "\n",
       "   fraudulent                                               text  \n",
       "0           0  office manager  hr   missing based in the hear...  \n",
       "1           0  director of account management missing the dir...  \n",
       "2           0  brand manager contract position since our goal...  \n",
       "3           0  web developer we are a technology focused comp...  \n",
       "4           0  performance improvement director missing overs...  "
      ]
     },
     "execution_count": 7,
     "metadata": {},
     "output_type": "execute_result"
    }
   ],
   "source": [
    "import re\n",
    "\n",
    "def preprocess_text(text: str) -> str:\n",
    "    text = text.lower()\n",
    "    text = re.sub(r'\\d+', '', text)\n",
    "    text = re.sub(r'[^\\w\\s]', '', text)\n",
    "    return text\n",
    "\n",
    "for col in text_columns:\n",
    "    train_data[col] = train_data[col].apply(preprocess_text)\n",
    "\n",
    "train_data['text'] = train_data[text_columns].agg(' '.join, axis=1)\n",
    "\n",
    "train_data.head()"
   ]
  },
  {
   "cell_type": "markdown",
   "metadata": {},
   "source": [
    "# 离散值向量化"
   ]
  },
  {
   "cell_type": "code",
   "execution_count": 8,
   "metadata": {},
   "outputs": [
    {
     "name": "stdout",
     "output_type": "stream",
     "text": [
      "8999 1000\n"
     ]
    }
   ],
   "source": [
    "from sklearn.feature_extraction.text import TfidfVectorizer\n",
    "from sklearn.model_selection import train_test_split\n",
    "\n",
    "tfidfvectorizer = TfidfVectorizer(max_features=5000)\n",
    "\n",
    "# Train-Test Split\n",
    "X = train_data['text']\n",
    "y = train_data['fraudulent']\n",
    "X_train, X_test, y_train, y_test = train_test_split(X, y, test_size=0.1, random_state=42, stratify=y)\n",
    "print(len(X_train), len(X_test))"
   ]
  },
  {
   "cell_type": "code",
   "execution_count": 9,
   "metadata": {},
   "outputs": [
    {
     "name": "stdout",
     "output_type": "stream",
     "text": [
      "[[0. 0. 0. ... 0. 0. 0.]\n",
      " [0. 0. 0. ... 0. 0. 0.]\n",
      " [0. 0. 0. ... 0. 0. 0.]\n",
      " ...\n",
      " [0. 0. 0. ... 0. 0. 0.]\n",
      " [0. 0. 0. ... 0. 0. 0.]\n",
      " [0. 0. 0. ... 0. 0. 0.]]\n",
      "['aan' 'ab' 'abc' ... 'τις' 'το' 'του']\n"
     ]
    }
   ],
   "source": [
    "X_train_tfidf = tfidfvectorizer.fit_transform(X_train)\n",
    "X_test_tfidf = tfidfvectorizer.transform(X_test)\n",
    "print(X_train_tfidf.toarray()) # 向量化后的训练集\n",
    "print(tfidfvectorizer.get_feature_names_out()) # tfidfvectorizer构建的词表"
   ]
  },
  {
   "cell_type": "markdown",
   "metadata": {},
   "source": [
    "# 过采样"
   ]
  },
  {
   "cell_type": "code",
   "execution_count": 10,
   "metadata": {},
   "outputs": [
    {
     "data": {
      "text/plain": [
       "fraudulent\n",
       "0    0.5\n",
       "1    0.5\n",
       "Name: proportion, dtype: float64"
      ]
     },
     "execution_count": 10,
     "metadata": {},
     "output_type": "execute_result"
    }
   ],
   "source": [
    "from imblearn.over_sampling import SMOTE\n",
    "\n",
    "smote = SMOTE(random_state=42)\n",
    "X_smote, y_smote = smote.fit_resample(X_train_tfidf, y_train)\n",
    "\n",
    "smote_class_distribution = pd.Series(y_smote).value_counts(normalize=True)\n",
    "smote_class_distribution"
   ]
  },
  {
   "cell_type": "markdown",
   "metadata": {},
   "source": [
    "# 训练模型"
   ]
  },
  {
   "cell_type": "code",
   "execution_count": 11,
   "metadata": {},
   "outputs": [
    {
     "data": {
      "text/html": [
       "<style>#sk-container-id-1 {color: black;}#sk-container-id-1 pre{padding: 0;}#sk-container-id-1 div.sk-toggleable {background-color: white;}#sk-container-id-1 label.sk-toggleable__label {cursor: pointer;display: block;width: 100%;margin-bottom: 0;padding: 0.3em;box-sizing: border-box;text-align: center;}#sk-container-id-1 label.sk-toggleable__label-arrow:before {content: \"▸\";float: left;margin-right: 0.25em;color: #696969;}#sk-container-id-1 label.sk-toggleable__label-arrow:hover:before {color: black;}#sk-container-id-1 div.sk-estimator:hover label.sk-toggleable__label-arrow:before {color: black;}#sk-container-id-1 div.sk-toggleable__content {max-height: 0;max-width: 0;overflow: hidden;text-align: left;background-color: #f0f8ff;}#sk-container-id-1 div.sk-toggleable__content pre {margin: 0.2em;color: black;border-radius: 0.25em;background-color: #f0f8ff;}#sk-container-id-1 input.sk-toggleable__control:checked~div.sk-toggleable__content {max-height: 200px;max-width: 100%;overflow: auto;}#sk-container-id-1 input.sk-toggleable__control:checked~label.sk-toggleable__label-arrow:before {content: \"▾\";}#sk-container-id-1 div.sk-estimator input.sk-toggleable__control:checked~label.sk-toggleable__label {background-color: #d4ebff;}#sk-container-id-1 div.sk-label input.sk-toggleable__control:checked~label.sk-toggleable__label {background-color: #d4ebff;}#sk-container-id-1 input.sk-hidden--visually {border: 0;clip: rect(1px 1px 1px 1px);clip: rect(1px, 1px, 1px, 1px);height: 1px;margin: -1px;overflow: hidden;padding: 0;position: absolute;width: 1px;}#sk-container-id-1 div.sk-estimator {font-family: monospace;background-color: #f0f8ff;border: 1px dotted black;border-radius: 0.25em;box-sizing: border-box;margin-bottom: 0.5em;}#sk-container-id-1 div.sk-estimator:hover {background-color: #d4ebff;}#sk-container-id-1 div.sk-parallel-item::after {content: \"\";width: 100%;border-bottom: 1px solid gray;flex-grow: 1;}#sk-container-id-1 div.sk-label:hover label.sk-toggleable__label {background-color: #d4ebff;}#sk-container-id-1 div.sk-serial::before {content: \"\";position: absolute;border-left: 1px solid gray;box-sizing: border-box;top: 0;bottom: 0;left: 50%;z-index: 0;}#sk-container-id-1 div.sk-serial {display: flex;flex-direction: column;align-items: center;background-color: white;padding-right: 0.2em;padding-left: 0.2em;position: relative;}#sk-container-id-1 div.sk-item {position: relative;z-index: 1;}#sk-container-id-1 div.sk-parallel {display: flex;align-items: stretch;justify-content: center;background-color: white;position: relative;}#sk-container-id-1 div.sk-item::before, #sk-container-id-1 div.sk-parallel-item::before {content: \"\";position: absolute;border-left: 1px solid gray;box-sizing: border-box;top: 0;bottom: 0;left: 50%;z-index: -1;}#sk-container-id-1 div.sk-parallel-item {display: flex;flex-direction: column;z-index: 1;position: relative;background-color: white;}#sk-container-id-1 div.sk-parallel-item:first-child::after {align-self: flex-end;width: 50%;}#sk-container-id-1 div.sk-parallel-item:last-child::after {align-self: flex-start;width: 50%;}#sk-container-id-1 div.sk-parallel-item:only-child::after {width: 0;}#sk-container-id-1 div.sk-dashed-wrapped {border: 1px dashed gray;margin: 0 0.4em 0.5em 0.4em;box-sizing: border-box;padding-bottom: 0.4em;background-color: white;}#sk-container-id-1 div.sk-label label {font-family: monospace;font-weight: bold;display: inline-block;line-height: 1.2em;}#sk-container-id-1 div.sk-label-container {text-align: center;}#sk-container-id-1 div.sk-container {/* jupyter's `normalize.less` sets `[hidden] { display: none; }` but bootstrap.min.css set `[hidden] { display: none !important; }` so we also need the `!important` here to be able to override the default hidden behavior on the sphinx rendered scikit-learn.org. See: https://github.com/scikit-learn/scikit-learn/issues/21755 */display: inline-block !important;position: relative;}#sk-container-id-1 div.sk-text-repr-fallback {display: none;}</style><div id=\"sk-container-id-1\" class=\"sk-top-container\"><div class=\"sk-text-repr-fallback\"><pre>RandomForestClassifier(random_state=42)</pre><b>In a Jupyter environment, please rerun this cell to show the HTML representation or trust the notebook. <br />On GitHub, the HTML representation is unable to render, please try loading this page with nbviewer.org.</b></div><div class=\"sk-container\" hidden><div class=\"sk-item\"><div class=\"sk-estimator sk-toggleable\"><input class=\"sk-toggleable__control sk-hidden--visually\" id=\"sk-estimator-id-1\" type=\"checkbox\" checked><label for=\"sk-estimator-id-1\" class=\"sk-toggleable__label sk-toggleable__label-arrow\">RandomForestClassifier</label><div class=\"sk-toggleable__content\"><pre>RandomForestClassifier(random_state=42)</pre></div></div></div></div></div>"
      ],
      "text/plain": [
       "RandomForestClassifier(random_state=42)"
      ]
     },
     "execution_count": 11,
     "metadata": {},
     "output_type": "execute_result"
    }
   ],
   "source": [
    "from sklearn.ensemble import RandomForestClassifier\n",
    "\n",
    "# 随机森林构建\n",
    "model = RandomForestClassifier(random_state=42)\n",
    "model.fit(X_smote, y_smote) "
   ]
  },
  {
   "cell_type": "code",
   "execution_count": 12,
   "metadata": {},
   "outputs": [
    {
     "name": "stdout",
     "output_type": "stream",
     "text": [
      "Classification Report:\n",
      "               precision    recall  f1-score   support\n",
      "\n",
      "           0       0.98      1.00      0.99       951\n",
      "           1       1.00      0.51      0.68        49\n",
      "\n",
      "    accuracy                           0.98      1000\n",
      "   macro avg       0.99      0.76      0.83      1000\n",
      "weighted avg       0.98      0.98      0.97      1000\n",
      "\n"
     ]
    }
   ],
   "source": [
    "from sklearn.metrics import classification_report\n",
    "\n",
    "y_pred = model.predict(X_test_tfidf)\n",
    "print(\"Classification Report:\\n\", classification_report(y_test, y_pred))"
   ]
  },
  {
   "cell_type": "code",
   "execution_count": 13,
   "metadata": {},
   "outputs": [
    {
     "data": {
      "text/html": [
       "<style>#sk-container-id-2 {color: black;}#sk-container-id-2 pre{padding: 0;}#sk-container-id-2 div.sk-toggleable {background-color: white;}#sk-container-id-2 label.sk-toggleable__label {cursor: pointer;display: block;width: 100%;margin-bottom: 0;padding: 0.3em;box-sizing: border-box;text-align: center;}#sk-container-id-2 label.sk-toggleable__label-arrow:before {content: \"▸\";float: left;margin-right: 0.25em;color: #696969;}#sk-container-id-2 label.sk-toggleable__label-arrow:hover:before {color: black;}#sk-container-id-2 div.sk-estimator:hover label.sk-toggleable__label-arrow:before {color: black;}#sk-container-id-2 div.sk-toggleable__content {max-height: 0;max-width: 0;overflow: hidden;text-align: left;background-color: #f0f8ff;}#sk-container-id-2 div.sk-toggleable__content pre {margin: 0.2em;color: black;border-radius: 0.25em;background-color: #f0f8ff;}#sk-container-id-2 input.sk-toggleable__control:checked~div.sk-toggleable__content {max-height: 200px;max-width: 100%;overflow: auto;}#sk-container-id-2 input.sk-toggleable__control:checked~label.sk-toggleable__label-arrow:before {content: \"▾\";}#sk-container-id-2 div.sk-estimator input.sk-toggleable__control:checked~label.sk-toggleable__label {background-color: #d4ebff;}#sk-container-id-2 div.sk-label input.sk-toggleable__control:checked~label.sk-toggleable__label {background-color: #d4ebff;}#sk-container-id-2 input.sk-hidden--visually {border: 0;clip: rect(1px 1px 1px 1px);clip: rect(1px, 1px, 1px, 1px);height: 1px;margin: -1px;overflow: hidden;padding: 0;position: absolute;width: 1px;}#sk-container-id-2 div.sk-estimator {font-family: monospace;background-color: #f0f8ff;border: 1px dotted black;border-radius: 0.25em;box-sizing: border-box;margin-bottom: 0.5em;}#sk-container-id-2 div.sk-estimator:hover {background-color: #d4ebff;}#sk-container-id-2 div.sk-parallel-item::after {content: \"\";width: 100%;border-bottom: 1px solid gray;flex-grow: 1;}#sk-container-id-2 div.sk-label:hover label.sk-toggleable__label {background-color: #d4ebff;}#sk-container-id-2 div.sk-serial::before {content: \"\";position: absolute;border-left: 1px solid gray;box-sizing: border-box;top: 0;bottom: 0;left: 50%;z-index: 0;}#sk-container-id-2 div.sk-serial {display: flex;flex-direction: column;align-items: center;background-color: white;padding-right: 0.2em;padding-left: 0.2em;position: relative;}#sk-container-id-2 div.sk-item {position: relative;z-index: 1;}#sk-container-id-2 div.sk-parallel {display: flex;align-items: stretch;justify-content: center;background-color: white;position: relative;}#sk-container-id-2 div.sk-item::before, #sk-container-id-2 div.sk-parallel-item::before {content: \"\";position: absolute;border-left: 1px solid gray;box-sizing: border-box;top: 0;bottom: 0;left: 50%;z-index: -1;}#sk-container-id-2 div.sk-parallel-item {display: flex;flex-direction: column;z-index: 1;position: relative;background-color: white;}#sk-container-id-2 div.sk-parallel-item:first-child::after {align-self: flex-end;width: 50%;}#sk-container-id-2 div.sk-parallel-item:last-child::after {align-self: flex-start;width: 50%;}#sk-container-id-2 div.sk-parallel-item:only-child::after {width: 0;}#sk-container-id-2 div.sk-dashed-wrapped {border: 1px dashed gray;margin: 0 0.4em 0.5em 0.4em;box-sizing: border-box;padding-bottom: 0.4em;background-color: white;}#sk-container-id-2 div.sk-label label {font-family: monospace;font-weight: bold;display: inline-block;line-height: 1.2em;}#sk-container-id-2 div.sk-label-container {text-align: center;}#sk-container-id-2 div.sk-container {/* jupyter's `normalize.less` sets `[hidden] { display: none; }` but bootstrap.min.css set `[hidden] { display: none !important; }` so we also need the `!important` here to be able to override the default hidden behavior on the sphinx rendered scikit-learn.org. See: https://github.com/scikit-learn/scikit-learn/issues/21755 */display: inline-block !important;position: relative;}#sk-container-id-2 div.sk-text-repr-fallback {display: none;}</style><div id=\"sk-container-id-2\" class=\"sk-top-container\"><div class=\"sk-text-repr-fallback\"><pre>LogisticRegression(random_state=42)</pre><b>In a Jupyter environment, please rerun this cell to show the HTML representation or trust the notebook. <br />On GitHub, the HTML representation is unable to render, please try loading this page with nbviewer.org.</b></div><div class=\"sk-container\" hidden><div class=\"sk-item\"><div class=\"sk-estimator sk-toggleable\"><input class=\"sk-toggleable__control sk-hidden--visually\" id=\"sk-estimator-id-2\" type=\"checkbox\" checked><label for=\"sk-estimator-id-2\" class=\"sk-toggleable__label sk-toggleable__label-arrow\">LogisticRegression</label><div class=\"sk-toggleable__content\"><pre>LogisticRegression(random_state=42)</pre></div></div></div></div></div>"
      ],
      "text/plain": [
       "LogisticRegression(random_state=42)"
      ]
     },
     "execution_count": 13,
     "metadata": {},
     "output_type": "execute_result"
    }
   ],
   "source": [
    "from sklearn.linear_model import LogisticRegression\n",
    "\n",
    "# 逻辑回归\n",
    "model = LogisticRegression(random_state=42)\n",
    "model.fit(X_smote, y_smote)"
   ]
  },
  {
   "cell_type": "code",
   "execution_count": 14,
   "metadata": {},
   "outputs": [
    {
     "name": "stdout",
     "output_type": "stream",
     "text": [
      "Classification Report:\n",
      "               precision    recall  f1-score   support\n",
      "\n",
      "           0       0.99      0.98      0.99       951\n",
      "           1       0.69      0.86      0.76        49\n",
      "\n",
      "    accuracy                           0.97      1000\n",
      "   macro avg       0.84      0.92      0.87      1000\n",
      "weighted avg       0.98      0.97      0.98      1000\n",
      "\n"
     ]
    }
   ],
   "source": [
    "y_pred = model.predict(X_test_tfidf)\n",
    "print(\"Classification Report:\\n\", classification_report(y_test, y_pred))"
   ]
  },
  {
   "cell_type": "code",
   "execution_count": 15,
   "metadata": {},
   "outputs": [
    {
     "data": {
      "text/html": [
       "<style>#sk-container-id-3 {color: black;}#sk-container-id-3 pre{padding: 0;}#sk-container-id-3 div.sk-toggleable {background-color: white;}#sk-container-id-3 label.sk-toggleable__label {cursor: pointer;display: block;width: 100%;margin-bottom: 0;padding: 0.3em;box-sizing: border-box;text-align: center;}#sk-container-id-3 label.sk-toggleable__label-arrow:before {content: \"▸\";float: left;margin-right: 0.25em;color: #696969;}#sk-container-id-3 label.sk-toggleable__label-arrow:hover:before {color: black;}#sk-container-id-3 div.sk-estimator:hover label.sk-toggleable__label-arrow:before {color: black;}#sk-container-id-3 div.sk-toggleable__content {max-height: 0;max-width: 0;overflow: hidden;text-align: left;background-color: #f0f8ff;}#sk-container-id-3 div.sk-toggleable__content pre {margin: 0.2em;color: black;border-radius: 0.25em;background-color: #f0f8ff;}#sk-container-id-3 input.sk-toggleable__control:checked~div.sk-toggleable__content {max-height: 200px;max-width: 100%;overflow: auto;}#sk-container-id-3 input.sk-toggleable__control:checked~label.sk-toggleable__label-arrow:before {content: \"▾\";}#sk-container-id-3 div.sk-estimator input.sk-toggleable__control:checked~label.sk-toggleable__label {background-color: #d4ebff;}#sk-container-id-3 div.sk-label input.sk-toggleable__control:checked~label.sk-toggleable__label {background-color: #d4ebff;}#sk-container-id-3 input.sk-hidden--visually {border: 0;clip: rect(1px 1px 1px 1px);clip: rect(1px, 1px, 1px, 1px);height: 1px;margin: -1px;overflow: hidden;padding: 0;position: absolute;width: 1px;}#sk-container-id-3 div.sk-estimator {font-family: monospace;background-color: #f0f8ff;border: 1px dotted black;border-radius: 0.25em;box-sizing: border-box;margin-bottom: 0.5em;}#sk-container-id-3 div.sk-estimator:hover {background-color: #d4ebff;}#sk-container-id-3 div.sk-parallel-item::after {content: \"\";width: 100%;border-bottom: 1px solid gray;flex-grow: 1;}#sk-container-id-3 div.sk-label:hover label.sk-toggleable__label {background-color: #d4ebff;}#sk-container-id-3 div.sk-serial::before {content: \"\";position: absolute;border-left: 1px solid gray;box-sizing: border-box;top: 0;bottom: 0;left: 50%;z-index: 0;}#sk-container-id-3 div.sk-serial {display: flex;flex-direction: column;align-items: center;background-color: white;padding-right: 0.2em;padding-left: 0.2em;position: relative;}#sk-container-id-3 div.sk-item {position: relative;z-index: 1;}#sk-container-id-3 div.sk-parallel {display: flex;align-items: stretch;justify-content: center;background-color: white;position: relative;}#sk-container-id-3 div.sk-item::before, #sk-container-id-3 div.sk-parallel-item::before {content: \"\";position: absolute;border-left: 1px solid gray;box-sizing: border-box;top: 0;bottom: 0;left: 50%;z-index: -1;}#sk-container-id-3 div.sk-parallel-item {display: flex;flex-direction: column;z-index: 1;position: relative;background-color: white;}#sk-container-id-3 div.sk-parallel-item:first-child::after {align-self: flex-end;width: 50%;}#sk-container-id-3 div.sk-parallel-item:last-child::after {align-self: flex-start;width: 50%;}#sk-container-id-3 div.sk-parallel-item:only-child::after {width: 0;}#sk-container-id-3 div.sk-dashed-wrapped {border: 1px dashed gray;margin: 0 0.4em 0.5em 0.4em;box-sizing: border-box;padding-bottom: 0.4em;background-color: white;}#sk-container-id-3 div.sk-label label {font-family: monospace;font-weight: bold;display: inline-block;line-height: 1.2em;}#sk-container-id-3 div.sk-label-container {text-align: center;}#sk-container-id-3 div.sk-container {/* jupyter's `normalize.less` sets `[hidden] { display: none; }` but bootstrap.min.css set `[hidden] { display: none !important; }` so we also need the `!important` here to be able to override the default hidden behavior on the sphinx rendered scikit-learn.org. See: https://github.com/scikit-learn/scikit-learn/issues/21755 */display: inline-block !important;position: relative;}#sk-container-id-3 div.sk-text-repr-fallback {display: none;}</style><div id=\"sk-container-id-3\" class=\"sk-top-container\"><div class=\"sk-text-repr-fallback\"><pre>SVC(kernel=&#x27;linear&#x27;, random_state=42)</pre><b>In a Jupyter environment, please rerun this cell to show the HTML representation or trust the notebook. <br />On GitHub, the HTML representation is unable to render, please try loading this page with nbviewer.org.</b></div><div class=\"sk-container\" hidden><div class=\"sk-item\"><div class=\"sk-estimator sk-toggleable\"><input class=\"sk-toggleable__control sk-hidden--visually\" id=\"sk-estimator-id-3\" type=\"checkbox\" checked><label for=\"sk-estimator-id-3\" class=\"sk-toggleable__label sk-toggleable__label-arrow\">SVC</label><div class=\"sk-toggleable__content\"><pre>SVC(kernel=&#x27;linear&#x27;, random_state=42)</pre></div></div></div></div></div>"
      ],
      "text/plain": [
       "SVC(kernel='linear', random_state=42)"
      ]
     },
     "execution_count": 15,
     "metadata": {},
     "output_type": "execute_result"
    }
   ],
   "source": [
    "from sklearn.svm import SVC\n",
    "\n",
    "# SVM\n",
    "model = SVC(kernel='linear', random_state=42)\n",
    "model.fit(X_smote, y_smote)"
   ]
  },
  {
   "cell_type": "code",
   "execution_count": 16,
   "metadata": {},
   "outputs": [
    {
     "name": "stdout",
     "output_type": "stream",
     "text": [
      "Classification Report:\n",
      "               precision    recall  f1-score   support\n",
      "\n",
      "           0       0.99      0.99      0.99       951\n",
      "           1       0.83      0.78      0.80        49\n",
      "\n",
      "    accuracy                           0.98      1000\n",
      "   macro avg       0.91      0.88      0.90      1000\n",
      "weighted avg       0.98      0.98      0.98      1000\n",
      "\n"
     ]
    }
   ],
   "source": [
    "y_pred = model.predict(X_test_tfidf)\n",
    "print(\"Classification Report:\\n\", classification_report(y_test, y_pred))"
   ]
  },
  {
   "cell_type": "code",
   "execution_count": 41,
   "metadata": {},
   "outputs": [],
   "source": [
    "import torch\n",
    "import torch.nn as nn\n",
    "import torch.nn.functional as F\n",
    "\n",
    "\n",
    "class BinaryClassification(nn.Module):\n",
    "    def __init__(self, n_feature: int, n_hidden: int, n_output: int) -> None:\n",
    "        super(BinaryClassification, self).__init__()\n",
    "        # 构建传输到隐层的fc\n",
    "        self.fc1 = nn.Linear(n_feature, n_hidden)\n",
    "        # 构建输出层\n",
    "        self.fc2 = nn.Linear(n_hidden, n_feature)\n",
    "\n",
    "    def forward(self, x: torch.FloatTensor):\n",
    "        x = self.fc1(x)\n",
    "        x = F.relu(x)\n",
    "        x = self.fc2(x)\n",
    "        return x\n",
    "\n",
    "    def predict(self, x):\n",
    "        pred = F.softmax(self.forward(x), dim=1)\n",
    "\n",
    "        ans = []\n",
    "        for t in pred:\n",
    "           if t[0] > t[1]:\n",
    "               ans.append(0) \n",
    "           else:\n",
    "               ans.append(1)\n",
    "\n",
    "        return torch.tensor(ans)"
   ]
  },
  {
   "cell_type": "code",
   "execution_count": null,
   "metadata": {},
   "outputs": [
    {
     "name": "stdout",
     "output_type": "stream",
     "text": [
      "cuda:0\n"
     ]
    }
   ],
   "source": [
    "# 检测设备类型\n",
    "if torch.cuda.is_available():\n",
    "    device = torch.device('cuda')\n",
    "else:\n",
    "    device = torch.device('cpu')\n",
    "\n",
    "# 数据集和模型准备\n",
    "X_tensor = torch.from_numpy(X_smote.toarray()).type(torch.FloatTensor).to(device)\n",
    "y_tensor = torch.from_numpy(np.array(y_smote)).type(torch.LongTensor).to(device)\n",
    "model = BinaryClassification(X_tensor.shape[1], 20, 2).to(device)\n",
    "\n",
    "print(next(model.parameters()).device)\n",
    "\n",
    "# 定义损失函数\n",
    "loss_criterion = nn.CrossEntropyLoss().to(device)\n",
    "# 定义优化器\n",
    "optimizer = torch.optim.Adam(model.parameters(), lr = 0.01)"
   ]
  },
  {
   "cell_type": "code",
   "execution_count": null,
   "metadata": {},
   "outputs": [],
   "source": [
    "# 模型训练\n",
    "epochs = 1000\n",
    "losses = []\n",
    "\n",
    "for i in range(epochs):\n",
    "    #得到预测值\n",
    "    y_pred = model(X_tensor)\n",
    "    #计算当前的损失\n",
    "    loss = loss_criterion(y_pred, y_tensor)\n",
    "    #添加当前的损失到losses中\n",
    "    losses.append(loss.item())\n",
    "    #清除之前的梯度\n",
    "    optimizer.zero_grad()\n",
    "    #反向传播更新参数\n",
    "    loss.backward()\n",
    "    #梯度优化\n",
    "    optimizer.step()\n",
    "    if(i % 50 == 0):\n",
    "        print('loss: {:.4f}'.format(loss.item()))"
   ]
  },
  {
   "cell_type": "code",
   "execution_count": null,
   "metadata": {},
   "outputs": [
    {
     "data": {
      "image/png": "[encoded data removed]",
      "text/plain": [
       "<Figure size 640x480 with 1 Axes>"
      ]
     },
     "metadata": {},
     "output_type": "display_data"
    }
   ],
   "source": [
    "# 可视化loss变化\n",
    "epoch_list = np.linspace(1, 1000, 1000)\n",
    "plt.plot(epoch_list, losses)\n",
    "plt.show()"
   ]
  },
  {
   "cell_type": "code",
   "execution_count": 57,
   "metadata": {},
   "outputs": [
    {
     "name": "stdout",
     "output_type": "stream",
     "text": [
      "torch.Size([1000, 5000])\n",
      "Classification Report:\n",
      "               precision    recall  f1-score   support\n",
      "\n",
      "           0       0.99      0.99      0.99       951\n",
      "           1       0.85      0.71      0.78        49\n",
      "\n",
      "    accuracy                           0.98      1000\n",
      "   macro avg       0.92      0.85      0.88      1000\n",
      "weighted avg       0.98      0.98      0.98      1000\n",
      "\n"
     ]
    }
   ],
   "source": [
    "X_test_tensor = torch.from_numpy(X_test_tfidf.toarray()).type(torch.FloatTensor).to(device)\n",
    "print(X_test_tensor.shape)\n",
    "y_pred = model.predict(X_test_tensor)\n",
    "print(\"Classification Report:\\n\", classification_report(y_test, y_pred))"
   ]
  },
  {
   "cell_type": "markdown",
   "metadata": {},
   "source": [
    "# 测试赛题"
   ]
  },
  {
   "cell_type": "code",
   "execution_count": null,
   "metadata": {},
   "outputs": [],
   "source": [
    "test_data[text_columns] = test_data[text_columns].fillna(\"Missing\")\n",
    "test_data[info_columns] = test_data[info_columns].fillna(\"Unknown\")\n",
    "\n",
    "for col in text_columns:\n",
    "    test_data[col] = test_data[col].apply(preprocess_text)\n",
    "\n",
    "test_data['text'] = test_data[text_columns].agg(' '.join, axis=1)\n",
    "\n",
    "test_data"
   ]
  },
  {
   "cell_type": "code",
   "execution_count": 14,
   "metadata": {},
   "outputs": [
    {
     "data": {
      "text/plain": [
       "0    7657\n",
       "1     224\n",
       "Name: count, dtype: int64"
      ]
     },
     "execution_count": 14,
     "metadata": {},
     "output_type": "execute_result"
    }
   ],
   "source": [
    "job_id = test_data['job_id']\n",
    "\n",
    "\n",
    "pred = model.predict(tfidfvectorizer.transform(test_data['text']))\n",
    "pred_distribution = pd.Series(pred).value_counts()\n",
    "pred_distribution"
   ]
  },
  {
   "cell_type": "markdown",
   "metadata": {},
   "source": [
    "# 导出实验结果"
   ]
  },
  {
   "cell_type": "code",
   "execution_count": 22,
   "metadata": {},
   "outputs": [],
   "source": [
    "ans_df = pd.concat([job_id, pd.Series(pred)], axis=1).rename(columns={0: 'pred'})\n",
    "ans_df.to_csv('predict.csv', index=False)"
   ]
  }
 ],
 "metadata": {
  "kernelspec": {
   "display_name": "base",
   "language": "python",
   "name": "python3"
  },
  "language_info": {
   "codemirror_mode": {
    "name": "ipython",
    "version": 3
   },
   "file_extension": ".py",
   "mimetype": "text/x-python",
   "name": "python",
   "nbconvert_exporter": "python",
   "pygments_lexer": "ipython3",
   "version": "3.8.10"
  }
 },
 "nbformat": 4,
 "nbformat_minor": 2
}
